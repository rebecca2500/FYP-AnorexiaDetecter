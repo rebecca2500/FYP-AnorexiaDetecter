{
 "cells": [
  {
   "cell_type": "code",
   "execution_count": 11,
   "metadata": {},
   "outputs": [],
   "source": [
    "import tweepy\n",
    "import webbrowser\n",
    "import pandas as pd"
   ]
  },
  {
   "cell_type": "code",
   "execution_count": 12,
   "metadata": {},
   "outputs": [],
   "source": [
    "consumer_key = \"Is7FGaeIOYJLOgS3MIRrpFTAr\"\n",
    "consumer_secret = \"TwCade42qvSCM0T4DSe6y3YPzbdSOwiikrM4M5VyQvYLwGKpQU\""
   ]
  },
  {
   "cell_type": "code",
   "execution_count": 13,
   "metadata": {},
   "outputs": [],
   "source": [
    "callback_uri = 'oob' \n",
    "auth = tweepy.OAuthHandler(consumer_key,consumer_secret, callback_uri)\n",
    "redirect_uri =auth.get_authorization_url()"
   ]
  },
  {
   "cell_type": "code",
   "execution_count": 14,
   "metadata": {},
   "outputs": [
    {
     "name": "stdout",
     "output_type": "stream",
     "text": [
      "Whats the pin value?6212732\n"
     ]
    }
   ],
   "source": [
    "webbrowser.open(redirect_uri)\n",
    "user_pint_input=input(\"Whats the pin value?\")"
   ]
  },
  {
   "cell_type": "code",
   "execution_count": 15,
   "metadata": {},
   "outputs": [
    {
     "data": {
      "text/plain": [
       "('1311940711986552832-WRVkGeTqPpK4WWkOwJlphWdeCkQ1hw',\n",
       " 'pik6ZjfJJN6tiMLXQOVs45eRWHKe9rdIPeuOGQMd90m6G')"
      ]
     },
     "execution_count": 15,
     "metadata": {},
     "output_type": "execute_result"
    }
   ],
   "source": [
    "auth.get_access_token(user_pint_input)"
   ]
  },
  {
   "cell_type": "code",
   "execution_count": 16,
   "metadata": {},
   "outputs": [],
   "source": [
    "api= tweepy.API(auth)\n",
    "api = tweepy.API(auth, wait_on_rate_limit=True)"
   ]
  },
  {
   "cell_type": "code",
   "execution_count": 17,
   "metadata": {},
   "outputs": [],
   "source": [
    "def extract_tweets_as_df(timeline_lists):\n",
    "    column = set()\n",
    "    allowed_types = [str,int]\n",
    "    tweets_data=[]\n",
    "    for status in timeline_lists:\n",
    "        status_dict = dict(vars(status))\n",
    "        keys = status_dict.keys()\n",
    "        single_tweet_data = {\"user\":status.user.screen_name, \"location\":status.user.location}\n",
    "        for k in keys:\n",
    "            try:\n",
    "                v_type= type(status_dict[k])\n",
    "            except:\n",
    "                v_type = None\n",
    "            if v_type in allowed_types:\n",
    "                single_tweet_data[k] = status_dict[k]\n",
    "                column.add(k)\n",
    "        tweets_data.append(single_tweet_data)\n",
    "    \n",
    "    header_cols=list(column)\n",
    "    header_cols.append(\"user\")\n",
    "    header_cols.append(\"location\")\n",
    "    df = pd.DataFrame(tweets_data,columns=header_cols)\n",
    "    return df"
   ]
  },
  {
   "cell_type": "code",
   "execution_count": 26,
   "metadata": {},
   "outputs": [],
   "source": [
    "search_words = \"anorexia\"\n",
    "date_since = \"2021-04-01\""
   ]
  },
  {
   "cell_type": "code",
   "execution_count": 27,
   "metadata": {},
   "outputs": [
    {
     "data": {
      "text/html": [
       "<div>\n",
       "<style scoped>\n",
       "    .dataframe tbody tr th:only-of-type {\n",
       "        vertical-align: middle;\n",
       "    }\n",
       "\n",
       "    .dataframe tbody tr th {\n",
       "        vertical-align: top;\n",
       "    }\n",
       "\n",
       "    .dataframe thead th {\n",
       "        text-align: right;\n",
       "    }\n",
       "</style>\n",
       "<table border=\"1\" class=\"dataframe\">\n",
       "  <thead>\n",
       "    <tr style=\"text-align: right;\">\n",
       "      <th></th>\n",
       "      <th>lang</th>\n",
       "      <th>text</th>\n",
       "      <th>id</th>\n",
       "      <th>user</th>\n",
       "      <th>location</th>\n",
       "    </tr>\n",
       "  </thead>\n",
       "  <tbody>\n",
       "    <tr>\n",
       "      <td>0</td>\n",
       "      <td>en</td>\n",
       "      <td>Does anyone want to be in a group chat with pe...</td>\n",
       "      <td>1389809937623044098</td>\n",
       "      <td>Elle10920182</td>\n",
       "      <td>California, USA</td>\n",
       "    </tr>\n",
       "    <tr>\n",
       "      <td>1</td>\n",
       "      <td>en</td>\n",
       "      <td>RT @anticarbs: no but recovered ppl who post s...</td>\n",
       "      <td>1389807872322805768</td>\n",
       "      <td>owokcals</td>\n",
       "      <td>she/her</td>\n",
       "    </tr>\n",
       "    <tr>\n",
       "      <td>2</td>\n",
       "      <td>en</td>\n",
       "      <td>RT @anticarbs: no but recovered ppl who post s...</td>\n",
       "      <td>1389807522769473538</td>\n",
       "      <td>Ninediet</td>\n",
       "      <td>they/she/he • INFJ-T • 17 yo</td>\n",
       "    </tr>\n",
       "    <tr>\n",
       "      <td>3</td>\n",
       "      <td>en</td>\n",
       "      <td>Tess Holiday is a plus sized model who struggl...</td>\n",
       "      <td>1389807413935501315</td>\n",
       "      <td>deplorable_rich</td>\n",
       "      <td></td>\n",
       "    </tr>\n",
       "    <tr>\n",
       "      <td>4</td>\n",
       "      <td>en</td>\n",
       "      <td>@Prettyinthin yesss down with the dsm!!! tbh w...</td>\n",
       "      <td>1389807320339726338</td>\n",
       "      <td>dietjewish</td>\n",
       "      <td>ed twt with a side of 1d sry</td>\n",
       "    </tr>\n",
       "  </tbody>\n",
       "</table>\n",
       "</div>"
      ],
      "text/plain": [
       "  lang                                               text  \\\n",
       "0   en  Does anyone want to be in a group chat with pe...   \n",
       "1   en  RT @anticarbs: no but recovered ppl who post s...   \n",
       "2   en  RT @anticarbs: no but recovered ppl who post s...   \n",
       "3   en  Tess Holiday is a plus sized model who struggl...   \n",
       "4   en  @Prettyinthin yesss down with the dsm!!! tbh w...   \n",
       "\n",
       "                    id             user                      location  \n",
       "0  1389809937623044098     Elle10920182               California, USA  \n",
       "1  1389807872322805768         owokcals                       she/her  \n",
       "2  1389807522769473538         Ninediet  they/she/he • INFJ-T • 17 yo  \n",
       "3  1389807413935501315  deplorable_rich                                \n",
       "4  1389807320339726338       dietjewish  ed twt with a side of 1d sry  "
      ]
     },
     "execution_count": 27,
     "metadata": {},
     "output_type": "execute_result"
    }
   ],
   "source": [
    "tweets = tweepy.Cursor(api.search,\n",
    "                       q=search_words,\n",
    "                       lang= \"en\", \n",
    "                       since=date_since).items(5000)\n",
    "df2 = extract_tweets_as_df(tweets)\n",
    "Datasets = df2.drop(columns=['id_str','in_reply_to_status_id_str', 'in_reply_to_user_id', 'in_reply_to_status_id', 'in_reply_to_user_id_str','source_url','source','retweet_count','quoted_status_id','quoted_status_id_str','in_reply_to_screen_name','favorite_count'])\n",
    "Datasets.head()"
   ]
  },
  {
   "cell_type": "code",
   "execution_count": 28,
   "metadata": {},
   "outputs": [],
   "source": [
    "Datasets.to_csv('./FYP-Test2.csv', index=False)"
   ]
  },
  {
   "cell_type": "code",
   "execution_count": null,
   "metadata": {},
   "outputs": [],
   "source": []
  }
 ],
 "metadata": {
  "kernelspec": {
   "display_name": "Python 3",
   "language": "python",
   "name": "python3"
  },
  "language_info": {
   "codemirror_mode": {
    "name": "ipython",
    "version": 3
   },
   "file_extension": ".py",
   "mimetype": "text/x-python",
   "name": "python",
   "nbconvert_exporter": "python",
   "pygments_lexer": "ipython3",
   "version": "3.7.4"
  }
 },
 "nbformat": 4,
 "nbformat_minor": 2
}
